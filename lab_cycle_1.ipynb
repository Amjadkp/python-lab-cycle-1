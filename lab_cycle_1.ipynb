{
  "nbformat": 4,
  "nbformat_minor": 0,
  "metadata": {
    "colab": {
      "provenance": [],
      "authorship_tag": "ABX9TyOwZi3OfGNxUFNcREr9HK3U",
      "include_colab_link": true
    },
    "kernelspec": {
      "name": "python3",
      "display_name": "Python 3"
    },
    "language_info": {
      "name": "python"
    }
  },
  "cells": [
    {
      "cell_type": "markdown",
      "metadata": {
        "id": "view-in-github",
        "colab_type": "text"
      },
      "source": [
        "<a href=\"https://colab.research.google.com/github/Amjadkp/python-lab-cycle-1/blob/main/lab_cycle_1.ipynb\" target=\"_parent\"><img src=\"https://colab.research.google.com/assets/colab-badge.svg\" alt=\"Open In Colab\"/></a>"
      ]
    },
    {
      "cell_type": "markdown",
      "source": [],
      "metadata": {
        "id": "xpAeUf3a6k3K"
      }
    },
    {
      "cell_type": "markdown",
      "source": [
        "Question-1\n",
        "\n",
        "Write a program to read a four-digit number and find its\n",
        "a. Sum of digits\n",
        "b. Reverse\n",
        "c. Difference between the products of digits at the odd position and the product of digits at the even position."
      ],
      "metadata": {
        "id": "FDVYKqoN6mei"
      }
    },
    {
      "cell_type": "code",
      "source": [
        "#function to extract digits of number.\n",
        "def extractdigits (num):\n",
        "  dig_4=num%10\n",
        "  num=(num//10)\n",
        "  dig_3=num%10\n",
        "  num=(num//10)\n",
        "  dig_2=num%10\n",
        "  num=(num//10)\n",
        "  dig_1=num%10\n",
        "  return dig_1,dig_2,dig_3,dig_4\n",
        "\n",
        "#function to find the sum of digit.\n",
        "def sumOfDigits (dig_1,dig_2,dig_3,dig_4):\n",
        "  sum =dig_1+dig_2+dig_3+dig_4\n",
        "  print (\"the sum of digits = \",sum) \n",
        "\n",
        "#function to find the reverse of the number.\n",
        "def reverseOfNumber (dig_1,dig_2,dig_3,dig_4):\n",
        "  rev =(dig_4*1000+dig_3*100+dig_2*10+dig_1)\n",
        "  print (\"reverse of the number is = \",rev)\n",
        "\n",
        "#function to find the difference between the products of digits at the odd position and the product of digits at the even position\n",
        "def diff_BW_odd_and_even(dig_1,dig_2,dig_3,dig_4):\n",
        "  diff=(dig_1*dig_3)-(dig_2*dig_4)\n",
        "  print (\"the difference is = \",diff)\n",
        "  \n",
        "num =int(input(\"enter a four digit number = \"))\n",
        "dig1,dig2,dig3,dig4 = extractdigits (num)\n",
        "sumOfDigits (dig1,dig2,dig3,dig4)\n",
        "reverseOfNumber(dig1,dig2,dig3,dig4)\n",
        "diff_BW_odd_and_even(dig1,dig2,dig3,dig4)"
      ],
      "metadata": {
        "colab": {
          "base_uri": "https://localhost:8080/"
        },
        "id": "E7vZubCvRkaz",
        "outputId": "0cff9e21-b1ae-4e15-e3ab-3c8da849fc44"
      },
      "execution_count": null,
      "outputs": [
        {
          "output_type": "stream",
          "name": "stdout",
          "text": [
            "enter a four digit number = 3456\n",
            "the sum of digits =  18\n",
            "reverse of the number is =  6543\n",
            "the difference is =  -9\n"
          ]
        }
      ]
    },
    {
      "cell_type": "markdown",
      "source": [
        "Question-2\n",
        "\n",
        "Develop a program to read the three sides of two triangles and calculate the area of both. Define a function to read the three sides and call it. Also, define a function to calculate the area. Print the total area enclosed by both triangles and each triangle's contribution (%) towards it."
      ],
      "metadata": {
        "id": "I23sLPdvFJOi"
      }
    },
    {
      "cell_type": "code",
      "source": [
        "# 2. Develop a program to read the three sides of two triangles and calculate the area of both.\n",
        "# Define a function to read the three sides and call it. Also, define a function to calculate the area.\n",
        "# Print the total area enclosed by both triangles and each triangle's contribution (%) towards it\n",
        "\n",
        "#function - to get the sides from the user.\n",
        "def sides_of_triangles():\n",
        "  a = float(input(\"Enter the side A :\"))\n",
        "  b = float(input(\"Enter the side B :\"))\n",
        "  c = float(input(\"Enter the side C :\"))\n",
        "  return a,b,c\n",
        "\n",
        "#function - to calculate the area of the triangle.\n",
        "def area_of_triagle(a,b,c):\n",
        "  s = (a+b+c)/2\n",
        "  area = (s*(s-a)*(s-b)*(s-c))**(1/2)\n",
        "  return area\n",
        "\n",
        "#function - to calculate the total area and % contribution of each triangle.\n",
        "def totalAreaAndContribution(area_1,area_2):\n",
        "  #total area calculation\n",
        "  total_area = area_1 + area_2\n",
        "  #calculating the contribution of each triangle to area\n",
        "  contribution_of_triangle1 = (100*area_1)/total_area\n",
        "  contribution_of_triangle2 = (100*area_2)/total_area\n",
        "  print(\"The total area is \",total_area)\n",
        "  print(\"The % contribution of triangle 1 to total area is \",round(contribution_of_triangle1,2),\"%\")\n",
        "  print(\"The % contribution of triangle 2 to total area is \",round(contribution_of_triangle2,2),\"%\")\n",
        "\n",
        "print(\"First Triangle\")\n",
        "a1,b1,c1 = sides_of_triangles()\n",
        "area_1 = area_of_triagle(a1,b1,c1)\n",
        "print(\"The area of first triangle is \",area_1)\n",
        "\n",
        "print(\"Second Triangle\")\n",
        "a2,b2,c2 = sides_of_triangles()\n",
        "area_2 = area_of_triagle(a2,b2,c2)\n",
        "print(\"The area of second triangle is \",area_2)\n",
        "totalAreaAndContribution(area_1,area_2)"
      ],
      "metadata": {
        "id": "sDLZ86eGNVYJ",
        "colab": {
          "base_uri": "https://localhost:8080/"
        },
        "outputId": "e2427a6c-1aa9-49e6-b804-576b94bedce6"
      },
      "execution_count": 20,
      "outputs": [
        {
          "output_type": "stream",
          "name": "stdout",
          "text": [
            "First Triangle\n",
            "Enter the side A :2\n",
            "Enter the side B :4\n",
            "Enter the side C :6\n",
            "The area of first triangle is  0.0\n",
            "Second Triangle\n",
            "Enter the side A :5\n",
            "Enter the side B :5\n",
            "Enter the side C :5\n",
            "The area of second triangle is  10.825317547305483\n",
            "The total area is  10.825317547305483\n",
            "The % contribution of triangle 1 to total area is  0.0 %\n",
            "The % contribution of triangle 2 to total area is  100.0 %\n"
          ]
        }
      ]
    },
    {
      "cell_type": "markdown",
      "source": [
        "Question-3\n",
        " Develop a program to read the employee's name, code, and basic pay\n",
        "and calculate the gross salary, deduction, and net salary according to\n",
        "the following conditions. Define a function to find each of the\n",
        "components. Finally, generate a payslip"
      ],
      "metadata": {
        "id": "f88X0mKjLHqN"
      }
    },
    {
      "cell_type": "code",
      "source": [
        "# 3. Develop a program to read the employee's name, code, and basic pay and calculate the gross salary, deduction, and net salary according to the following conditions.\n",
        "# Define a function to find each of the components.\n",
        "# Finally, generate a payslip\n",
        "\n",
        "#function - to calculate gross salary , arguements : Basic Pay , DA ,HRA , MA\n",
        "def Gross_salay(bp,da,hra,ma):\n",
        "  grossSalary = bp+da+hra+ma\n",
        "  return grossSalary\n",
        "\n",
        "#function - to calculate deduction , arguements : Pf, Pt,It\n",
        "def ded(pf,pt,it):\n",
        "  deduct = pf+pt+it\n",
        "  return deduct\n",
        "\n",
        "#function - to calculate net salary , arguements : Gross Salary and Deduction\n",
        "def net_salary(GS,D):\n",
        "  net_sal = GS - D\n",
        "  return net_sal\n",
        "\n",
        "#function to generate the payment slip.\n",
        "def generatePaymentSlip(name,code,basic_pay):\n",
        "  #if basic pay is less than 10,000.\n",
        "  if basic_pay<10000:\n",
        "    DA = (basic_pay*5)/100\n",
        "    HRA = (basic_pay*2.5)/100\n",
        "    MA = 500\n",
        "    PT = 20\n",
        "    PF = (basic_pay*8)/100\n",
        "    IT = 0\n",
        "    Gross_Salary = Gross_salay(basic_pay,DA,HRA,MA)\n",
        "    Deduction = ded(PF,PT,IT)\n",
        "    Net_Salary = net_salary(Gross_Salary,Deduction)\n",
        "\n",
        "  #if basic pay is greater than 10,000 and less than 30,000.\n",
        "  elif basic_pay>=10000 and basic_pay<30000:\n",
        "    DA = (basic_pay*7.5)/100\n",
        "    HRA = (basic_pay*5)/100\n",
        "    MA = 2500\n",
        "    PT = 60\n",
        "    PF = (basic_pay*8)/100\n",
        "    IT = 0\n",
        "    Gross_Salary = Gross_salay(basic_pay,DA,HRA,MA)\n",
        "    Deduction = ded(PF,PT,IT)\n",
        "    Net_Salary = net_salary(Gross_Salary,Deduction)\n",
        "\n",
        "  #if basic pay is greater than 30,000 and less than 50,000.\n",
        "  elif basic_pay>=30000 and basic_pay<50000:\n",
        "    DA = (basic_pay*11)/100\n",
        "    HRA = (basic_pay*7.5)/100\n",
        "    MA = 5000\n",
        "    PT = 60\n",
        "    PF = (basic_pay*11)/100\n",
        "    IT = (basic_pay*11)/100\n",
        "    Gross_Salary = Gross_salay(basic_pay,DA,HRA,MA)\n",
        "    Deduction = ded(PF,PT,IT)\n",
        "    Net_Salary = net_salary(Gross_Salary,Deduction)\n",
        "\n",
        "  #if the basic pay is above 50,000.\n",
        "  else:\n",
        "    DA = (basic_pay*25)/100\n",
        "    HRA = (basic_pay*11)/100\n",
        "    MA = 7000\n",
        "    PT = 80\n",
        "    PF = (basic_pay*12)/100\n",
        "    IT = (basic_pay*20)/100\n",
        "    Gross_Salary = Gross_salay(basic_pay,DA,HRA,MA)\n",
        "    Deduction = ded(PF,PT,IT)\n",
        "    Net_Salary = net_salary(Gross_Salary,Deduction)\n",
        "\n",
        "  #printing the payment slip\n",
        "  print(\"\\nPayment Slip\")\n",
        "  print(\"Employee Name         : \"+name)\n",
        "  print(\"Employee Code         :\",code)\n",
        "  print(\"Employee Basic Pay    : Rs.\",basic_pay)\n",
        "  print(\"Employee DA           : Rs.\",DA)\n",
        "  print(\"Employee HRA          : Rs.\",HRA)\n",
        "  print(\"Employee MA           : Rs.\",MA)\n",
        "  print(\"Employee PT           : Rs.\",PT)\n",
        "  print(\"Employee PF           : Rs.\",PF)\n",
        "  print(\"Employee IT           : Rs.\",IT)\n",
        "  print(\"Employee Gross Salary : Rs.\",Gross_Salary)\n",
        "  print(\"Employee Deduction    : Rs.\",Deduction)\n",
        "  print(\"Employee Net Salary   : Rs.\",Net_Salary)\n",
        "\n",
        "\n",
        "EmployeeName = input(\"Enter your name \")\n",
        "EmployeeCode = int(input(\"Enter your code \"))\n",
        "basic_pay = int(input(\"Enter your basic pay \"))\n",
        "generatePaymentSlip(EmployeeName,EmployeeCode,basic_pay)\n"
      ],
      "metadata": {
        "colab": {
          "base_uri": "https://localhost:8080/"
        },
        "id": "jj_-Uaz3HyCz",
        "outputId": "30885cfd-f906-46e1-ab7a-7dd2b0f26531"
      },
      "execution_count": 31,
      "outputs": [
        {
          "output_type": "stream",
          "name": "stdout",
          "text": [
            "Enter your name Amjad\n",
            "Enter your code 124\n",
            "Enter your basic pay 50500\n",
            "\n",
            "Payment Slip\n",
            "Employee Name         : Amjad\n",
            "Employee Code         : 124\n",
            "Employee Basic Pay    : Rs. 50500\n",
            "Employee DA           : Rs. 12625.0\n",
            "Employee HRA          : Rs. 5555.0\n",
            "Employee MA           : Rs. 7000\n",
            "Employee PT           : Rs. 80\n",
            "Employee PF           : Rs. 6060.0\n",
            "Employee IT           : Rs. 10100.0\n",
            "Employee Gross Salary : Rs. 75680.0\n",
            "Employee Deduction    : Rs. 16240.0\n",
            "Employee Net Salary   : Rs. 59440.0\n"
          ]
        }
      ]
    },
    {
      "cell_type": "markdown",
      "source": [
        "Question-4\n",
        "\n",
        " Develop a program to perform the following task:\n",
        "\\\n",
        "a.Define a function to check whether a number is happy or not.\n",
        "\\\n",
        "b.Define a function to print all happy numbers within a range.\n",
        "\\\n",
        "c.Define a function to print first N happy numbers.Ahappy numberis a number defined by the following process:\n",
        "\\\n",
        "•Starting with any positive integer, replace the number withthe sum of the squares of its digits.\n",
        "\\\n",
        "•Repeat the process until the number equals 1 (where it will stay), or itloops endlessly in a cyclewhich does not include 1.\n",
        "\\\n",
        "•Those numbers for which this processends in 1are happy.\n",
        "\\\n",
        "Note: if a number is not being happy after 100 iterations, consider it sad."
      ],
      "metadata": {
        "id": "TGCJhezbLsJd"
      }
    },
    {
      "cell_type": "code",
      "source": [
        "# 4. Develop a program to perform the following task:\n",
        "# a.Define a function to check whether a number is happy or not.\n",
        "# b.Define a function to print all happy numbers within a range.\n",
        "# c.Define a function to print first N happy numbers.Ahappy numberis a number defined by the following process:\n",
        "# •Starting with any positive integer, replace the number withthe sum of the squares of its digits.\n",
        "# •Repeat the process until the number equals 1 (where it will stay), or itloops endlessly in a cyclewhich does not include 1.\n",
        "# •Those numbers for which this processends in 1are happy.\n",
        "# Note: if a number is not being happy after 100 iterations, consider it sad.\n",
        "\n",
        "\n",
        "#function - to print happy number's between a range\n",
        "def printinarange(l,u):\n",
        "  for i in range(l,u+1):\n",
        "    #function - check_happy is used to check whether i is a happy number or not\n",
        "    isHappy = checkhappy(i)\n",
        "    if isHappy:\n",
        "      print(i,end=\",\")\n",
        "\n",
        "#function - to print happy number's upto to a number\n",
        "def printupton(n):\n",
        "  for i in range(1,n+1):\n",
        "    #function - check_happy is used to check whether i is a happy number or not\n",
        "    isHappy = checkhappy(i)\n",
        "    if isHappy:\n",
        "      print(i, end=\",\")\n",
        "\n",
        "\n",
        "#function - check whether the number is happy or not\n",
        "def checkhappy(num):\n",
        "  for i in range(0,101):\n",
        "    happy_sum = 0\n",
        "    while num>0:\n",
        "      remainder = num % 10\n",
        "      num = num //10\n",
        "      happy_sum = happy_sum + remainder**2\n",
        "    \n",
        "    if(happy_sum == 1):\n",
        "      #returns true if the sum of the squares of its digit is 1\n",
        "      return True\n",
        "    else:\n",
        "      #if the sum is not 1 , then the sum is again passed to the loop\n",
        "      num = happy_sum\n",
        "      #after 100 iterations , the number is declared as sad\n",
        "      if(i == 100):\n",
        "        return False\n",
        "      \n",
        "        \n",
        "#to - check whether a number is happy or not\n",
        "num = int(input(\"Enter the number : \"))\n",
        "result = checkhappy(num)\n",
        "if result:\n",
        "  print(\"Happy\")\n",
        "else:\n",
        "  print(\"Sad\")\n",
        "\n",
        "#to print happy numbers between a range\n",
        "lower_range = int(input(\"Enter the lower limit \")) \n",
        "upper_range = int(input(\"Enter the upper limit \")) \n",
        "printinarange(lower_range,upper_range)\n",
        "\n",
        "#to print happy numbers upto to n value\n",
        "limit = int(input(\"\\nEnter the numbers upto which you want to print \"))\n",
        "printupton(limit)"
      ],
      "metadata": {
        "colab": {
          "base_uri": "https://localhost:8080/"
        },
        "id": "BraP7ZXxIp9-",
        "outputId": "889cb61c-18c0-4146-e33f-2f92ab80f0bd"
      },
      "execution_count": 32,
      "outputs": [
        {
          "output_type": "stream",
          "name": "stdout",
          "text": [
            "Enter the number : 2345\n",
            "Sad\n",
            "Enter the lower limit 2\n",
            "Enter the upper limit 30\n",
            "7,10,13,19,23,28,\n",
            "Enter the numbers upto which you want to print 30\n",
            "1,7,10,13,19,23,28,"
          ]
        }
      ]
    },
    {
      "cell_type": "markdown",
      "source": [
        "Question-5\n",
        "\n",
        "Develop a program to read a string and perform the following operations:\n",
        "\\\n",
        "•Print all possible substrings.\n",
        "\\\n",
        "•Print all possible substrings of length K.\n",
        "\\\n",
        "•Print all possible substrings of length K with N distinct characters.\n",
        "\\\n",
        "•Print substring(s)of length maximum length with N distinct characters.\n",
        "\\\n",
        "•Print all palindrome substrings.Define function for each of the task"
      ],
      "metadata": {
        "id": "1oVMSor8MFbW"
      }
    },
    {
      "cell_type": "code",
      "source": [
        "# 5. Develop a program to read a string and perform the following operations:\n",
        "# •Print all possible substrings.\n",
        "# •Print all possible substrings of length K.\n",
        "# •Print all possible substrings of length K with N distinct characters.\n",
        "# •Print substring(s)of length maximum length with N distinct characters.\n",
        "# •Print all palindrome substrings.Define function for each of the task\n",
        "\n",
        "#function - to print all possible substrings\n",
        "def sub_str(name):\n",
        "  for i in range(0,len(name)+1):\n",
        "    for j in range(i+1,len(name)+1):\n",
        "      s = name[i:j]\n",
        "      print(s, end=\"\\n\")\n",
        "\n",
        "#function - to print all possible substrings with length specified\n",
        "def sub_str_with_len(name,size):\n",
        "  for i in range(0,len(name)+1):\n",
        "    for j in range(i+1,len(name)+1):\n",
        "      s = name[i:j]\n",
        "      if len(s)==size:\n",
        "        print(s,end=\" , \")\n",
        "\n",
        "#function - to print all possible substrings with length and no of distinct characters specified\n",
        "def sub_strings_with_length_with_N_characters(name,size,N):\n",
        "  for i in range(0,len(name)+1):\n",
        "    for j in range(i+1,len(name)+1):\n",
        "      s = name[i:j]\n",
        "      if len(s)==size:\n",
        "        distinct = set(s)\n",
        "        if len(distinct) == N:\n",
        "          print(s,end=\" , \")\n",
        "\n",
        "#function - to print all possible substrings with max length and N no of distinct characters\n",
        "def sub_strings_with_max_length_with_N_characters(name,N):\n",
        "  string_list = []\n",
        "  for i in range(0,len(name)+1):\n",
        "    for j in range(i+1,len(name)+1):\n",
        "      s = name[i:j]\n",
        "      distinct = set(s)\n",
        "      if len(distinct) == N:\n",
        "        string_list.append(s)\n",
        "\n",
        "  length = len(max(string_list,key = len)) \n",
        "  for i in string_list:\n",
        "    if len(i)==length:\n",
        "      print(i,end=\" , \")\n",
        "\n",
        "#function - to print all the paliandrome substrings\n",
        "def print_paliandrome(name):\n",
        "  for i in range(0,len(name)+1):\n",
        "    for j in range(i+1,len(name)+1):\n",
        "      s = name[i:j]\n",
        "      reverse = s[::-1]\n",
        "      if reverse == s:\n",
        "        print(s , end = \" , \")\n",
        "\n",
        "\n",
        "name = input(\"Enter the string \")\n",
        "print(\"All the Possible Sub Strings are\")\n",
        "sub_str(name) #prints all possible sub-strings\n",
        "\n",
        "length = int(input(\"\\nEnter the length of the substrings you want to print \"))\n",
        "#prints all possible sub-strings with length specified\n",
        "print(\"\\nAll the Possible Sub Strings with length \",length,\" are\")\n",
        "sub_str_with_len(name,length) \n",
        "\n",
        "num_of_distinct = int(input(\"\\nEnter the no of distinct characters you want to print \"))\n",
        "#prints all possible sub-strings with length and no of distinct characters\n",
        "print(\"\\nAll the Possible Sub Strings with length \",length,\"and \",num_of_distinct,\" distinct characters are\")\n",
        "sub_strings_with_length_with_N_characters(name,length,num_of_distinct)\n",
        "\n",
        "#prints all sub-strings with max-length and no of distinct characters given\n",
        "print(\"\\nSub Strings with Max - Length and \",num_of_distinct,\" characters\")\n",
        "sub_strings_with_max_length_with_N_characters(name,num_of_distinct)\n",
        "\n",
        "#prints all the paliandrome sub-strings\n",
        "print(\"\\nThe Paliandrome Strings are \")\n",
        "print_paliandrome(name)"
      ],
      "metadata": {
        "colab": {
          "base_uri": "https://localhost:8080/"
        },
        "id": "2fxHmN_bJvUO",
        "outputId": "4b0e10f0-fbe3-4b19-b19f-9174aa30e912"
      },
      "execution_count": 28,
      "outputs": [
        {
          "output_type": "stream",
          "name": "stdout",
          "text": [
            "Enter the string amjaad\n",
            "All the Possible Sub Strings are\n",
            "a\n",
            "am\n",
            "amj\n",
            "amja\n",
            "amjaa\n",
            "amjaad\n",
            "m\n",
            "mj\n",
            "mja\n",
            "mjaa\n",
            "mjaad\n",
            "j\n",
            "ja\n",
            "jaa\n",
            "jaad\n",
            "a\n",
            "aa\n",
            "aad\n",
            "a\n",
            "ad\n",
            "d\n",
            "\n",
            "Enter the length of the substrings you want to print 5\n",
            "\n",
            "All the Possible Sub Strings with length  5  are\n",
            "amjaa , mjaad , \n",
            "Enter the no of distinct characters you want to print 4\n",
            "\n",
            "All the Possible Sub Strings with length  5 and  4  distinct characters are\n",
            "mjaad , \n",
            "Sub Strings with Max - Length and  4  characters\n",
            "amjaad , \n",
            "The Paliandrome Strings are \n",
            "a , m , j , a , aa , a , d , "
          ]
        }
      ]
    }
  ]
}
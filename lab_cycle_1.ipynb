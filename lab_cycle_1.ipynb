{
  "nbformat": 4,
  "nbformat_minor": 0,
  "metadata": {
    "colab": {
      "provenance": [],
      "authorship_tag": "ABX9TyN3xElIK4+P+dAg7I16Pobx",
      "include_colab_link": true
    },
    "kernelspec": {
      "name": "python3",
      "display_name": "Python 3"
    },
    "language_info": {
      "name": "python"
    }
  },
  "cells": [
    {
      "cell_type": "markdown",
      "metadata": {
        "id": "view-in-github",
        "colab_type": "text"
      },
      "source": [
        "<a href=\"https://colab.research.google.com/github/Amjadkp/python-lab-cycle-1/blob/main/lab_cycle_1.ipynb\" target=\"_parent\"><img src=\"https://colab.research.google.com/assets/colab-badge.svg\" alt=\"Open In Colab\"/></a>"
      ]
    },
    {
      "cell_type": "markdown",
      "source": [],
      "metadata": {
        "id": "xpAeUf3a6k3K"
      }
    },
    {
      "cell_type": "markdown",
      "source": [
        "Question-1\n",
        "\n",
        "Write a program to read a four-digit number and find its\n",
        "a. Sum of digits\n",
        "b. Reverse\n",
        "c. Difference between the products of digits at the odd position and the product of digits at the even position."
      ],
      "metadata": {
        "id": "FDVYKqoN6mei"
      }
    },
    {
      "cell_type": "code",
      "source": [
        "number=input(\"enter the four digit number : \")\n",
        "length=len(number)\n",
        "\n",
        "#checking the input & initialisation\n",
        "if(length==4):\n",
        "    i=1\n",
        "    sum,reverse=0,0\n",
        "    odd_place,even_place=1,1\n",
        "    num=int(number)\n",
        "else:\n",
        "    print(\"please enter 4 digit number\")\n",
        "    \n",
        "\n",
        "while (i<=length):\n",
        "    \n",
        "    #finding the last digit\n",
        "    r=num%10\n",
        "\n",
        "    #getting the sum of the digits\n",
        "    sum+=r\n",
        "\n",
        "    #getting the revese of the number\n",
        "    reverse=(reverse*10)+r\n",
        "\n",
        "    if(i%2==0):\n",
        "        #finding and storing even placed digits\n",
        "        odd_place=odd_place*r\n",
        "    else:\n",
        "        #finding and storing odd placed digits\n",
        "        even_place=even_place*r\n",
        "\n",
        "    num=num//10\n",
        "    i+=1\n",
        "#fing the difrerence\n",
        "difference=even_place-odd_place\n",
        "\n",
        "output1=f\"sum of the digits of {number} is : {sum}\"\n",
        "output2=f\"the reverse of the number { number } is : {reverse}\"\n",
        "output3=f\"difference between the product of odd and even placed digits : {difference}\"\n",
        "\n",
        "print(output1)     \n",
        "print(output2)\n",
        "print(output3)  \n",
        "\n",
        "print(\"-----THANK YOU-----\")"
      ],
      "metadata": {
        "colab": {
          "base_uri": "https://localhost:8080/"
        },
        "id": "E7vZubCvRkaz",
        "outputId": "0ee203d6-26c0-462c-fc72-71f2ee06d76c"
      },
      "execution_count": null,
      "outputs": [
        {
          "output_type": "stream",
          "name": "stdout",
          "text": [
            "enter the four digit number : 3546\n",
            "sum of the digits of 3546 is : 18\n",
            "the reverse of the number 3546 is : 6453\n",
            "difference between the product of odd and even placed digits : 18\n",
            "-----THANK YOU-----\n"
          ]
        }
      ]
    },
    {
      "cell_type": "markdown",
      "source": [
        "Question-2\n",
        "\n",
        "Develop a program to read the three sides of two triangles and calculate the area of both. Define a function to read the three sides and call it. Also, define a function to calculate the area. Print the total area enclosed by both triangles and each triangle's contribution (%) towards it."
      ],
      "metadata": {
        "id": "I23sLPdvFJOi"
      }
    },
    {
      "cell_type": "code",
      "source": [
        "import math\n",
        "\n",
        "#function to get input of 3 sides of a triangle\n",
        "def input_sides():\n",
        "    s1=int(input(\"enter the length of first side : \"))\n",
        "    s2=int(input(\"enter the length of second side : \"))\n",
        "    s3=int(input(\"enter the length of third side : \"))\n",
        "    return s1,s2,s3\n",
        "\n",
        "#function to find area with given 3 sides\n",
        "def area(s1,s2,s3):\n",
        "    area=0\n",
        "    #semiperimeter\n",
        "    s=(s1+s2+s3)/2\n",
        "    area=math.sqrt(s*s-1*s-2*s-3)\n",
        "    area=round(area,2)\n",
        "    print(f\"area of the triangle : {area}\")\n",
        "    return area\n",
        "\n",
        "#function to find contribution of each triangle in total area\n",
        "def percentage(area1,area2):\n",
        "    total=area1+area2\n",
        "    total=round(total,2)\n",
        "    print(f\"total area of the triangle is : {total} \")\n",
        "    #contribution of triangle 1 and round off to 2 digits\n",
        "    triangle1=round(area1*100/total)\n",
        "    #contribution of triangle 2 and round off to 2 digits\n",
        "    triangle2=round(area2*100/total)\n",
        "    print(f\"percentage contribution of first triangle in total area : {triangle1}\")\n",
        "    print(f\"percentage contribution of second triangle in total area : {triangle2} \")\n",
        "\n",
        "print(\"=====TRIANGLE 1======\")\n",
        "a,b,c=input_sides()\n",
        "area1=area(a,b,c)\n",
        "\n",
        "print(\"=====TRIANGLE 2=======\")\n",
        "p,q,r= input_sides()\n",
        "area2=area(p,q,r)\n",
        "\n",
        "percentage(area1,area2)"
      ],
      "metadata": {
        "id": "sDLZ86eGNVYJ",
        "colab": {
          "base_uri": "https://localhost:8080/"
        },
        "outputId": "2881c0ae-a690-40cc-f9a0-1bdebb74729f"
      },
      "execution_count": null,
      "outputs": [
        {
          "output_type": "stream",
          "name": "stdout",
          "text": [
            "=====TRIANGLE 1======\n",
            "enter the length of first side : 3\n",
            "enter the length of second side : 4\n",
            "enter the length of third side : 5\n",
            "area of the triangle : 3.87\n",
            "=====TRIANGLE 2=======\n",
            "enter the length of first side : 5\n",
            "enter the length of second side : 1\n",
            "enter the length of third side : 3\n",
            "area of the triangle : 1.94\n",
            "total area of the triangle is : 5.81 \n",
            "percentage contribution of first triangle in total area : 67\n",
            "percentage contribution of second triangle in total area : 33 \n"
          ]
        }
      ]
    },
    {
      "cell_type": "markdown",
      "source": [
        "Question-3\n",
        " Develop a program to read the employee's name, code, and basic pay\n",
        "and calculate the gross salary, deduction, and net salary according to\n",
        "the following conditions. Define a function to find each of the\n",
        "components. Finally, generate a payslip"
      ],
      "metadata": {
        "id": "f88X0mKjLHqN"
      }
    },
    {
      "cell_type": "code",
      "source": [
        "#function to collect input details\n",
        "def details():\n",
        "    name=input(\"enter employee's name: \")\n",
        "    basic_payment=input(\"enter the basic payment of employer : \")\n",
        "    code=input(\"enter employee's code: \")\n",
        "    return name,basic_payment,code\n",
        "\n",
        "#function to calculate gross salary\n",
        "def gross_salary(bp,da,hra,ma):\n",
        "    gross_salary=bp+da+hra+ma\n",
        "    return gross_salary\n",
        "\n",
        "#function to calculate deduction\n",
        "def deduction(pt,pf,it):\n",
        "    deduction=pt+pf+it\n",
        "    return deduction\n",
        "\n",
        "#function to calculate net salary\n",
        "def net_salary(gs,d):\n",
        "    net_salary=gs-d\n",
        "    return net_salary\n",
        "\n",
        "#function to display payment slip\n",
        "def payment_slip(Name,bp,Code):\n",
        "\n",
        "    if(bp<10000):\n",
        "        da=(bp*5/100)\n",
        "        hra=(bp*2.5/100)\n",
        "        ma=500\n",
        "        pt=20\n",
        "        pf=(bp*8/100)    \n",
        "        it=0\n",
        "        GrossSalary = gross_salary(bp,da,hra,ma)\n",
        "        Deduction = deduction(pt,pf,it)\n",
        "        NetSalary = net_salary(GrossSalary,Deduction)\n",
        "\n",
        "    elif(bp<30000):\n",
        "        da=(bp*7.5/100)\n",
        "        hra=(bp*5/100)\n",
        "        ma=2500\n",
        "        pt=60\n",
        "        pf=(bp*8/100)\n",
        "        it=0\n",
        "        GrossSalary = gross_salary(bp,da,hra,ma)\n",
        "        Deduction = deduction(pt,pf,it)\n",
        "        NetSalary = net_salary(GrossSalary,Deduction)\n",
        "\n",
        "    elif(bp<50000):\n",
        "        da=(bp*11/100)\n",
        "        hra=(bp*7.5/100)\n",
        "        ma=5000\n",
        "        pt=60\n",
        "        pf=(bp*12/100)\n",
        "        it=11\n",
        "        GrossSalary = gross_salary(bp,da,hra,ma)\n",
        "        Deduction = deduction(pt,pf,it)\n",
        "        NetSalary = net_salary(GrossSalary,Deduction)\n",
        "\n",
        "    else:\n",
        "        da=(bp*25/100)\n",
        "        hra=(bp*11/100)\n",
        "        ma=7000\n",
        "        pt=80\n",
        "        pf=(bp*12/100)\n",
        "        it=20\n",
        "        GrossSalary = gross_salary(bp,da,hra,ma)\n",
        "        Deduction = deduction(pt,pf,it)\n",
        "        NetSalary = net_salary(GrossSalary,Deduction)\n",
        "\n",
        "    print(\"::::::::PAYMENT SLIP:::::::\")\n",
        "    print(f\"Employee name : { Name }\")\n",
        "    print(f\"Employee code : { Code }\")\n",
        "    print(f\"Basic payment of Employee : { bp }\")\n",
        "    print(f\"Employee Basic pay : {GrossSalary}\")\n",
        "    print(f\"Employee Deduction : {Deduction}\")\n",
        "    print(f\"Employee Net Salary : {NetSalary}\")\n",
        "\n",
        "Name,Basic_payment,Code=details()\n",
        "bp=int(Basic_payment)\n",
        "payment_slip(Name,bp,Code)\n"
      ],
      "metadata": {
        "colab": {
          "base_uri": "https://localhost:8080/"
        },
        "id": "jj_-Uaz3HyCz",
        "outputId": "519522ac-4818-4de7-cd98-b3fa2c07f25d"
      },
      "execution_count": null,
      "outputs": [
        {
          "output_type": "stream",
          "name": "stdout",
          "text": [
            "enter employee's name: amjad kp\n",
            "enter the basic payment of employer : 45000\n",
            "enter employee's code: 007\n",
            "::::::::PAYMENT SLIP:::::::\n",
            "Employee name : amjad kp\n",
            "Employee code : 007\n",
            "Basic payment of Employee : 45000\n",
            "Employee Basic pay : 58325.0\n",
            "Employee Deduction : 5471.0\n",
            "Employee Net Salary : 52854.0\n"
          ]
        }
      ]
    },
    {
      "cell_type": "markdown",
      "source": [
        "Question-4\n",
        "\n",
        " Develop a program to perform the following task:\n",
        "\\\n",
        "a.Define a function to check whether a number is happy or not.\n",
        "\\\n",
        "b.Define a function to print all happy numbers within a range.\n",
        "\\\n",
        "c.Define a function to print first N happy numbers.Ahappy numberis a number defined by the following process:\n",
        "\\\n",
        "•Starting with any positive integer, replace the number withthe sum of the squares of its digits.\n",
        "\\\n",
        "•Repeat the process until the number equals 1 (where it will stay), or itloops endlessly in a cyclewhich does not include 1.\n",
        "\\\n",
        "•Those numbers for which this processends in 1are happy.\n",
        "\\\n",
        "Note: if a number is not being happy after 100 iterations, consider it sad."
      ],
      "metadata": {
        "id": "TGCJhezbLsJd"
      }
    },
    {
      "cell_type": "code",
      "source": [
        "\n",
        "#function - to print happy number's between a range\n",
        "def printinarange(l,u):\n",
        "  for i in range(l,u+1):\n",
        "    #function - check_happy is used to check whether i is a happy number or not\n",
        "    isHappy = checkhappy(i)\n",
        "    if isHappy:\n",
        "      print(i,end=\",\")\n",
        "\n",
        "#function - to print happy number's upto to a number\n",
        "def printupton(n):\n",
        "  for i in range(1,n+1):\n",
        "    #function - check_happy is used to check whether i is a happy number or not\n",
        "    isHappy = checkhappy(i)\n",
        "    if isHappy:\n",
        "      print(i, end=\",\")\n",
        "\n",
        "\n",
        "#function - check whether the number is happy or not\n",
        "def checkhappy(num):\n",
        "  for i in range(0,101):\n",
        "    happy_sum = 0\n",
        "    while num>0:\n",
        "      remainder = num % 10\n",
        "      num = num //10\n",
        "      happy_sum = happy_sum + remainder**2\n",
        "    \n",
        "    if(happy_sum == 1):\n",
        "      #returns true if the sum of the squares of its digit is 1\n",
        "      return True\n",
        "    else:\n",
        "      #if the sum is not 1 , then the sum is again passed to the loop\n",
        "      num = happy_sum\n",
        "      #after 100 iterations , the number is declared as sad\n",
        "      if(i == 100):\n",
        "        return False\n",
        "      \n",
        "        \n",
        "#to - check whether a number is happy or not\n",
        "num = int(input(\"Enter the number : \"))\n",
        "result = checkhappy(num)\n",
        "if result:\n",
        "  print(\"Happy\")\n",
        "else:\n",
        "  print(\"Sad\")\n",
        "\n",
        "#to print happy numbers between a range\n",
        "lower_range = int(input(\"Enter the lower limit \")) \n",
        "upper_range = int(input(\"Enter the upper limit \")) \n",
        "printinarange(lower_range,upper_range)\n",
        "\n",
        "#to print happy numbers upto to n value\n",
        "limit = int(input(\"\\nEnter the numbers upto which you want to print \"))\n",
        "printupton(limit)"
      ],
      "metadata": {
        "colab": {
          "base_uri": "https://localhost:8080/"
        },
        "id": "BraP7ZXxIp9-",
        "outputId": "889cb61c-18c0-4146-e33f-2f92ab80f0bd"
      },
      "execution_count": null,
      "outputs": [
        {
          "output_type": "stream",
          "name": "stdout",
          "text": [
            "Enter the number : 2345\n",
            "Sad\n",
            "Enter the lower limit 2\n",
            "Enter the upper limit 30\n",
            "7,10,13,19,23,28,\n",
            "Enter the numbers upto which you want to print 30\n",
            "1,7,10,13,19,23,28,"
          ]
        }
      ]
    },
    {
      "cell_type": "markdown",
      "source": [
        "Question-5\n",
        "\n",
        "Develop a program to read a string and perform the following operations:\n",
        "\\\n",
        "•Print all possible substrings.\n",
        "\\\n",
        "•Print all possible substrings of length K.\n",
        "\\\n",
        "•Print all possible substrings of length K with N distinct characters.\n",
        "\\\n",
        "•Print substring(s)of length maximum length with N distinct characters.\n",
        "\\\n",
        "•Print all palindrome substrings.Define function for each of the task"
      ],
      "metadata": {
        "id": "1oVMSor8MFbW"
      }
    },
    {
      "cell_type": "code",
      "source": [
        "\n",
        "#function - to print all possible substrings\n",
        "def sub_str(name):\n",
        "  for i in range(0,len(name)+1):\n",
        "    for j in range(i+1,len(name)+1):\n",
        "      s = name[i:j]\n",
        "      print(s, end=\"\\n\")\n",
        "\n",
        "#function - to print all possible substrings with length specified\n",
        "def sub_str_with_len(name,size):\n",
        "  for i in range(0,len(name)+1):\n",
        "    for j in range(i+1,len(name)+1):\n",
        "      s = name[i:j]\n",
        "      if len(s)==size:\n",
        "        print(s,end=\" , \")\n",
        "\n",
        "#function - to print all possible substrings with length and no of distinct characters specified\n",
        "def sub_strings_with_length_with_N_characters(name,size,N):\n",
        "  for i in range(0,len(name)+1):\n",
        "    for j in range(i+1,len(name)+1):\n",
        "      s = name[i:j]\n",
        "      if len(s)==size:\n",
        "        distinct = set(s)\n",
        "        if len(distinct) == N:\n",
        "          print(s,end=\" , \")\n",
        "\n",
        "#function - to print all possible substrings with max length and N no of distinct characters\n",
        "def sub_strings_with_max_length_with_N_characters(name,N):\n",
        "  string_list = []\n",
        "  for i in range(0,len(name)+1):\n",
        "    for j in range(i+1,len(name)+1):\n",
        "      s = name[i:j]\n",
        "      distinct = set(s)\n",
        "      if len(distinct) == N:\n",
        "        string_list.append(s)\n",
        "\n",
        "  length = len(max(string_list,key = len)) \n",
        "  for i in string_list:\n",
        "    if len(i)==length:\n",
        "      print(i,end=\" , \")\n",
        "\n",
        "#function - to print all the paliandrome substrings\n",
        "def print_paliandrome(name):\n",
        "  for i in range(0,len(name)+1):\n",
        "    for j in range(i+1,len(name)+1):\n",
        "      s = name[i:j]\n",
        "      reverse = s[::-1]\n",
        "      if reverse == s:\n",
        "        print(s , end = \" , \")\n",
        "\n",
        "\n",
        "name = input(\"Enter the string \")\n",
        "print(\"All the Possible Sub Strings are\")\n",
        "sub_str(name) #prints all possible sub-strings\n",
        "\n",
        "length = int(input(\"\\nEnter the length of the substrings you want to print \"))\n",
        "#prints all possible sub-strings with length specified\n",
        "print(\"\\nAll the Possible Sub Strings with length \",length,\" are\")\n",
        "sub_str_with_len(name,length) \n",
        "\n",
        "num_of_distinct = int(input(\"\\nEnter the no of distinct characters you want to print \"))\n",
        "#prints all possible sub-strings with length and no of distinct characters\n",
        "print(\"\\nAll the Possible Sub Strings with length \",length,\"and \",num_of_distinct,\" distinct characters are\")\n",
        "sub_strings_with_length_with_N_characters(name,length,num_of_distinct)\n",
        "\n",
        "#prints all sub-strings with max-length and no of distinct characters given\n",
        "print(\"\\nSub Strings with Max - Length and \",num_of_distinct,\" characters\")\n",
        "sub_strings_with_max_length_with_N_characters(name,num_of_distinct)\n",
        "\n",
        "#prints all the paliandrome sub-strings\n",
        "print(\"\\nThe Paliandrome Strings are \")\n",
        "print_paliandrome(name)"
      ],
      "metadata": {
        "colab": {
          "base_uri": "https://localhost:8080/"
        },
        "id": "2fxHmN_bJvUO",
        "outputId": "4b0e10f0-fbe3-4b19-b19f-9174aa30e912"
      },
      "execution_count": null,
      "outputs": [
        {
          "output_type": "stream",
          "name": "stdout",
          "text": [
            "Enter the string amjaad\n",
            "All the Possible Sub Strings are\n",
            "a\n",
            "am\n",
            "amj\n",
            "amja\n",
            "amjaa\n",
            "amjaad\n",
            "m\n",
            "mj\n",
            "mja\n",
            "mjaa\n",
            "mjaad\n",
            "j\n",
            "ja\n",
            "jaa\n",
            "jaad\n",
            "a\n",
            "aa\n",
            "aad\n",
            "a\n",
            "ad\n",
            "d\n",
            "\n",
            "Enter the length of the substrings you want to print 5\n",
            "\n",
            "All the Possible Sub Strings with length  5  are\n",
            "amjaa , mjaad , \n",
            "Enter the no of distinct characters you want to print 4\n",
            "\n",
            "All the Possible Sub Strings with length  5 and  4  distinct characters are\n",
            "mjaad , \n",
            "Sub Strings with Max - Length and  4  characters\n",
            "amjaad , \n",
            "The Paliandrome Strings are \n",
            "a , m , j , a , aa , a , d , "
          ]
        }
      ]
    }
  ]
}
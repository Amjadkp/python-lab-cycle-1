{
  "nbformat": 4,
  "nbformat_minor": 0,
  "metadata": {
    "colab": {
      "provenance": [],
      "authorship_tag": "ABX9TyPnLw+6gi5zcRUu3X0wVBtZ",
      "include_colab_link": true
    },
    "kernelspec": {
      "name": "python3",
      "display_name": "Python 3"
    },
    "language_info": {
      "name": "python"
    }
  },
  "cells": [
    {
      "cell_type": "markdown",
      "metadata": {
        "id": "view-in-github",
        "colab_type": "text"
      },
      "source": [
        "<a href=\"https://colab.research.google.com/github/Amjadkp/python-lab-cycle-1/blob/main/Labcycle2.ipynb\" target=\"_parent\"><img src=\"https://colab.research.google.com/assets/colab-badge.svg\" alt=\"Open In Colab\"/></a>"
      ]
    },
    {
      "cell_type": "markdown",
      "source": [
        "q1\n"
      ],
      "metadata": {
        "id": "UfgHD63RnDH3"
      }
    },
    {
      "cell_type": "code",
      "source": [
        "ask = int(input(\"enter the no of months to find : \"))\n",
        "if ask==1:\n",
        "  print(2)\n",
        "else:  \n",
        "  #first two month case \n",
        "  month1 = 2\n",
        "  month2 = 2\n",
        "  total,i=0,0\n",
        "  rabbits = [2,2]\n",
        "  #to calculate the remaining months\n",
        "  for i in range(ask-2):\n",
        "    total = month2+month1\n",
        "    rabbits.append(total)\n",
        "    month1 = month2\n",
        "    month2 = total\n",
        "    i+=1\n",
        "\n",
        "  count=0\n",
        "  #to print final result\n",
        "  for k in rabbits:\n",
        "    print(\"Month \",rabbits.index(k)+1,\" : \",k)\n",
        "    if k==2:\n",
        "      count+=1\n",
        "    if count>0:\n",
        "      rabbits[rabbits.index(k)]=-1"
      ],
      "metadata": {
        "colab": {
          "base_uri": "https://localhost:8080/"
        },
        "id": "kporl41RnC5o",
        "outputId": "8d078619-5ba2-4b94-d87b-d833c4d50142"
      },
      "execution_count": 1,
      "outputs": [
        {
          "output_type": "stream",
          "name": "stdout",
          "text": [
            "enter the no of months to find : 10\n",
            "Month  1  :  2\n",
            "Month  2  :  2\n",
            "Month  3  :  4\n",
            "Month  4  :  6\n",
            "Month  5  :  10\n",
            "Month  6  :  16\n",
            "Month  7  :  26\n",
            "Month  8  :  42\n",
            "Month  9  :  68\n",
            "Month  10  :  110\n"
          ]
        }
      ]
    },
    {
      "cell_type": "markdown",
      "source": [
        "q2"
      ],
      "metadata": {
        "id": "WnUev8uJnCdx"
      }
    },
    {
      "cell_type": "code",
      "source": [
        "#function to merge and sort the list\n",
        "def SortMerge(temp1,temp2):                                    \n",
        "   listfinal=temp1+temp2\n",
        "   listfinal.sort()\n",
        "   return listfinal\n",
        "#function to sort the individual list\n",
        "def final_sort(l1,l2):                                         \n",
        "   l1.sort()\n",
        "   l2.sort()\n",
        "   final_list=SortMerge(l1,l2)\n",
        "   print(\"5. Single Sorted list         :\",final_list)\n",
        "   print(\"_\"*70,\"\\n\")\n",
        "#function to evaluate the mathematical function\n",
        "def function(l):                                               \n",
        "   l_function=[]  # l_function - list of result of the expression\n",
        "   for i in range(0,len(l)):             #f(x)=x^{2}-x\n",
        "      l_function.append(l[i]**2 -l[i])\n",
        "   print(\"4. Values of functions        :\",l_function)\n",
        "   final_sort(l,l_function)\n",
        "#function to rewrite the list without duplication\n",
        "def duplication(l):                                            \n",
        "   l_ndupli=tuple(set(l))\n",
        "   l_ndupli=list(l_ndupli)\n",
        "   print(\"3. List without duplication   :\",l_ndupli)\n",
        "   function(l_ndupli)\n",
        "#function to convert the list to tuple\n",
        "def list_tuple(l):                                            \n",
        "   l_tuple=tuple(i for i in l)\n",
        "   print(\"2.Tuple by list Comprehension :\",l_tuple)\n",
        "   duplication(l_tuple)\n",
        "#function to rotate the list\n",
        "def rotate(l):                                                 \n",
        "   n= int(input(\"\\n1. Enter Number of rotation: \"))\n",
        "   temp=[]\n",
        "   if n>len(l):          #Condition to avoid repeated looping\n",
        "      n = int(n%len(l))   \n",
        "   for i in range(len(l)-n,len(l)):\n",
        "     #print(len(l),n,i)\n",
        "     temp.append(l[i])\n",
        "   for i in range(0,len(l)-n):\n",
        "     temp.append(l[i])\n",
        "   print(\"\\tRotated List          :\",temp)\n",
        "#main function to get the list\n",
        "def main():                                                   \n",
        "   l_string=[]\n",
        "   print(\"\\n\\tList of String to list of Integers and operations.\")\n",
        "   print(\"_\"*70)\n",
        "   l_string=input(\"Enter Numbers separated by space : \")     \n",
        "   l_string=list(l_string.split(\" \"))    #l_string - list of string         \n",
        "   print(\"\\nList of string   :\",l_string)\n",
        "   l_int=[]                              #l_int - list of integers\n",
        "   for i in l_string:\n",
        "      l_int.append(int (i))\n",
        "   print(\"List of Integers :\",l_int)\n",
        "   print(\"_\"*70)\n",
        "   rotate(l_int)                  #function call\n",
        "   list_tuple(l_int)              #function call\n",
        "main()                            #program execution beginning"
      ],
      "metadata": {
        "colab": {
          "base_uri": "https://localhost:8080/"
        },
        "id": "oy1IXF36nCRf",
        "outputId": "e569cb49-3054-4720-e5cb-e4396653c05b"
      },
      "execution_count": 4,
      "outputs": [
        {
          "output_type": "stream",
          "name": "stdout",
          "text": [
            "\n",
            "\tList of String to list of Integers and operations.\n",
            "______________________________________________________________________\n",
            "Enter Numbers separated by space : 12 34 7 84 5 7 55 3 53 3 2 23\n",
            "\n",
            "List of string   : ['12', '34', '7', '84', '5', '7', '55', '3', '53', '3', '2', '23']\n",
            "List of Integers : [12, 34, 7, 84, 5, 7, 55, 3, 53, 3, 2, 23]\n",
            "______________________________________________________________________\n",
            "\n",
            "1. Enter Number of rotation: 4\n",
            "\tRotated List          : [53, 3, 2, 23, 12, 34, 7, 84, 5, 7, 55, 3]\n",
            "2.Tuple by list Comprehension : (12, 34, 7, 84, 5, 7, 55, 3, 53, 3, 2, 23)\n",
            "3. List without duplication   : [34, 3, 2, 5, 7, 12, 84, 53, 23, 55]\n",
            "4. Values of functions        : [1122, 6, 2, 20, 42, 132, 6972, 2756, 506, 2970]\n",
            "5. Single Sorted list         : [2, 2, 3, 5, 6, 7, 12, 20, 23, 34, 42, 53, 55, 84, 132, 506, 1122, 2756, 2970, 6972]\n",
            "______________________________________________________________________ \n",
            "\n"
          ]
        }
      ]
    },
    {
      "cell_type": "markdown",
      "source": [
        "q3"
      ],
      "metadata": {
        "id": "uyVY-glnnB4j"
      }
    },
    {
      "cell_type": "code",
      "source": [
        "import json\n",
        "def readAsList(filepath):\n",
        "  fp = open(filepath,'r')    #list having each line of json as elements\n",
        "  jsonList = fp.readlines()\n",
        "  fp.close()\n",
        "  return jsonList\n",
        "def readAsListOfDict(filepath):\n",
        "  fp = open(filepath,'r')    #list having dictionary of objects.\n",
        "  jsonData = json.load(fp)\n",
        "  fp.close()\n",
        "  return jsonData\n",
        "def printSetosa(jsonList):  #printing the details of only setosa.\n",
        "  print(\"\\nDetails of flowers of species setosa\")\n",
        "  for i in jsonList:\n",
        "    if(i['species']=='setosa'):\n",
        "      print(i)\n",
        "def sepalAreaAndPetalArea(jsonList): #list to store species names.\n",
        "  listOfSpeciesName = list()\n",
        "                             #appeding the different species name to the list.\n",
        "  for i in jsonList:        \n",
        "    listOfSpeciesName.append(i['species'])\n",
        "                             #removing duplicates to get unique speices.\n",
        "  listOfSpeciesName = list(set(listOfSpeciesName))\n",
        "                             #list to store sepal and petal area.\n",
        "  sepalArea = list()\n",
        "  petalArea = list()\n",
        "                       #species sepal area and petal area\n",
        "  for i in listOfSpeciesName:\n",
        "    for j in jsonList:\n",
        "      if(j['species']==i):\n",
        "        sepalArea.append(j['sepalLength']*j['sepalWidth'])\n",
        "        petalArea.append(j['petalLength']*j['petalWidth'])\n",
        "    print()\n",
        "    print(i.capitalize())\n",
        "                                    #printing minimum and maximum areas.\n",
        "    print(\"Maximum Sepal Area in \",i.capitalize(),\" is \",end=\"\")\n",
        "    print(round(max(sepalArea),2))\n",
        "    print(\"Minimum Petal Area in \",i.capitalize(),\" is \",end=\"\")\n",
        "    print(round(min(petalArea),2))\n",
        "    sepalArea.clear()\n",
        "    petalArea.clear()\n",
        "def sortTotalArea(jsonList):\n",
        "  for i in jsonList:            #adding total area to the each dictionary\n",
        "    petal=i['petalLength']*i['petalWidth']\n",
        "    sepal=i['sepalLength']*i['sepalWidth']\n",
        "    totalArea = (petal)+(sepal)   \n",
        "    i.update({'totalArea':round(totalArea,2)})\n",
        "                                #list sorted according to total area\n",
        "  sortedList = sorted(jsonList,key=lambda i:i['totalArea'])\n",
        "  print(\"\\nList sorted on the basis of total area\")\n",
        "  for i in sortedList:\n",
        "    print(i)\n",
        "filePath = 'iris.json'          #saving the file \n",
        "jsonList = readAsList(filePath)\n",
        "print(\"List with each line as element\\n\")\n",
        "for line in jsonList:\n",
        "  print(line)\n",
        "jsonData = readAsListOfDict(filePath)\n",
        "print(\"\\nList of Dictionaries\")\n",
        "for i in jsonData:\n",
        "  for key, values in i.items():\n",
        "    print(key.capitalize()+\" : \",values,end=\" , \")\n",
        "  print()\n",
        "printSetosa(jsonData)      #function call for displaying setosa series\n",
        "                            #function call for find total sepal and petal area\n",
        "sepalAreaAndPetalArea(jsonData)  \n",
        "                            #function to find the total area\n",
        "sortTotalArea(jsonData)"
      ],
      "metadata": {
        "id": "Rfw_0Ji3nBr9"
      },
      "execution_count": null,
      "outputs": []
    },
    {
      "cell_type": "markdown",
      "source": [
        "q4"
      ],
      "metadata": {
        "id": "pLBqW7hynBXH"
      }
    },
    {
      "cell_type": "code",
      "source": [
        "\"\"\"labcycle2: 4.ipynb\n",
        "\n",
        "Automatically generated by Colaboratory.\n",
        "\n",
        "Original file is located at\n",
        "    https://colab.research.google.com/drive/1ClkUJ7_RCJ-_OrwBgXDHLrH-mYvi3x74\n",
        "\"\"\"\n",
        "\n",
        "# 4.Write a program to create a class Box with data members length, \n",
        "#   breadth, height, area, and volume. Provider constructor that enables \n",
        "#   initialization with one parameter (for cube), two parameters (for\n",
        "#   square prism) three parameters (rectangular prism). Also, provide \n",
        "#   functions to calculate area and volume.\n",
        "#   Create a list of N boxes with random measurements and print the \n",
        "#   details of the box with maximum volume: area ratio.\n",
        "\n",
        "#creating class Box\n",
        "class Box:\n",
        "\n",
        "  __length= None\n",
        "  __breadth= None\n",
        "  __height= None\n",
        "  __area= None\n",
        "  __volume= None\n",
        "\n",
        "#constructing which can initialise multiple values\n",
        "  def __init__(self,*p):\n",
        "\n",
        "    if len(p)==1:\n",
        "      self.__length= p[0]\n",
        "      self.__breadth= p[0]\n",
        "      self.__height= p[0]\n",
        "\n",
        "    elif len(p)==2:\n",
        "      self.__length= p[0]\n",
        "      self.__breadth= p[0]\n",
        "      self.__height= p[1]\n",
        "\n",
        "    elif len(p)==3:\n",
        "      self.__length= p[0]\n",
        "      self.__breadth= p[1]\n",
        "      self.__height= p[2]\n",
        "\n",
        "# function to calculate area\n",
        "  def AREA(self):\n",
        "\n",
        "    self.__area= 2*(self.__length*self.__breadth + self.__length*self.__height + self.__breadth*self.__height)\n",
        "\n",
        "    return self.__area\n",
        "   \n",
        "# function to calculate volume\n",
        "  def VOLUME(self):\n",
        "\n",
        "    self.__volume= self.__length*self.__breadth*self.__height\n",
        "\n",
        "    return self.__volume\n",
        "\n",
        "# function to display details \n",
        "  def display(self):\n",
        "\n",
        "    print(\" \")\n",
        "    print(\"Details of the Box\")\n",
        "    print(\"length  : \",self.__length)\n",
        "    print(\"Breadth : \",self.__breadth)\n",
        "    print(\"Height  : \",self.__height)\n",
        "    print(\" \")\n",
        "    print(\"Area    : \",self.__area)\n",
        "    print(\"Volume  : \",self.__volume)\n",
        "    print(\" \")\n",
        "\n",
        "#function to calculate volume : area ratio\n",
        "  def get_ratio(self):\n",
        "\n",
        "   p= (self.__volume)/(self.__area)\n",
        "   \n",
        "   return p\n",
        "\n",
        "# function to generate random inputs for constructors\n",
        "def ran():  \n",
        "\n",
        "  import random  \n",
        "  n=random.randrange(1,10) \n",
        "  l1=[]\n",
        "  c=0\n",
        "\n",
        "  for i in range (0,n,3):\n",
        "    while c!=n:\n",
        "      l1.insert(i,Box(random.randrange(1,50)))\n",
        "      c=c+1\n",
        "      l1.insert(i+1,Box(random.randrange(1,50),random.randrange(1,50)))\n",
        "      c=c+1\n",
        "      l1.insert(i+2,Box(random.randrange(1,50),random.randrange(1,50),random.randrange(1,50)))\n",
        "      c=c+1\n",
        "      break\n",
        "\n",
        "  return n,l1\n",
        "\n",
        "# function to compare and find the greatest\n",
        "def cal_great(n,l1):\n",
        "\n",
        "  # calling function to calculate area and volume\n",
        "  for i in range (0,n):\n",
        "    l1[i].AREA()\n",
        "    l1[i].VOLUME()\n",
        "    l2=[]\n",
        "\n",
        "  #calling function to get ratio\n",
        "  for i in range (0,n):\n",
        "    l2.append(l1[i].get_ratio())\n",
        "\n",
        "  # to check all objects with randum input\n",
        "  # for i in range (0,n):\n",
        "  #   l1[i].display()\n",
        "  #   print(\"Ratio : \",l1[i].get_ratio())\n",
        "\n",
        "  #checking for greatest ratio\n",
        "  for i in range (0,n):\n",
        "    if max(l2)==l1[i].get_ratio():\n",
        "        print(\" \")\n",
        "        print(\" Greatest Ratio \")\n",
        "        print(\"----------------\")\n",
        "        l1[i].display()\n",
        "        print(\"Ratio : \",l1[i].get_ratio())\n",
        "\n",
        "n,l=ran()\n",
        "cal_great(n,l)"
      ],
      "metadata": {
        "colab": {
          "base_uri": "https://localhost:8080/"
        },
        "id": "NH8JmynknA9h",
        "outputId": "bdf890b9-aa24-4b38-a91b-e71999777011"
      },
      "execution_count": 9,
      "outputs": [
        {
          "output_type": "stream",
          "name": "stdout",
          "text": [
            " \n",
            " Greatest Ratio \n",
            "----------------\n",
            " \n",
            "Details of the Box\n",
            "length  :  31\n",
            "Breadth :  31\n",
            "Height  :  9\n",
            " \n",
            "Area    :  3038\n",
            "Volume  :  8649\n",
            " \n",
            "Ratio :  2.8469387755102042\n"
          ]
        }
      ]
    },
    {
      "cell_type": "markdown",
      "source": [
        "q5\n"
      ],
      "metadata": {
        "id": "HG0qGbQrm8CE"
      }
    },
    {
      "cell_type": "code",
      "execution_count": 11,
      "metadata": {
        "colab": {
          "base_uri": "https://localhost:8080/"
        },
        "id": "BCln-sviR6KU",
        "outputId": "a5b7a378-ff23-4eb5-d462-18f30d6fc1f6"
      },
      "outputs": [
        {
          "output_type": "stream",
          "name": "stdout",
          "text": [
            "\n",
            "===== Cylinder operation =====\n",
            "\n",
            "Enter radius of cylinder : 5\n",
            "Enter height of the cylinder : 4\n",
            "The Area of the shape is  282.6\n",
            "The volume of the shape is  314.0\n",
            "\n",
            "===== Sphere operation =====\n",
            "\n",
            "Enter the radius of the sphere : 7\n",
            "The Area of the shape is  615.44\n",
            "The volume of the shape is  1436.03\n"
          ]
        }
      ],
      "source": [
        "class three_d_shapes():  # base class\n",
        "    def printVolume(self):\n",
        "        print(\"The volume of the shape is \", self.volume())\n",
        "\n",
        "    def prinArea(self):\n",
        "        print(\"The Area of the shape is \", self.area())\n",
        "\n",
        "\n",
        "class cylinders(three_d_shapes):  # derived class\n",
        "    def __init__(self, r, h):  # initialising values\n",
        "        self.r = r\n",
        "        self.h = h\n",
        "\n",
        "    def area(self):\n",
        "        #self.area = round(2*3.14*self.r*(self.r+self.h), 2)\n",
        "        return round(2*3.14*self.r*(self.r+self.h), 2)\n",
        "\n",
        "    def volume(self):\n",
        "        return round(3.14*self.r*self.r*self.h, 2)\n",
        "\n",
        "\n",
        "class sphere(three_d_shapes):  # derived class\n",
        "    def __init__(self, r):\n",
        "        self.r = r\n",
        "\n",
        "    def area(self):\n",
        "        return round(4*3.14*self.r*self.r, 2)\n",
        "\n",
        "    def volume(self):\n",
        "        return round((4/3)*3.14*self.r*self.r*self.r, 2)\n",
        "\n",
        "\n",
        "# cylinders operation\n",
        "print(\"\\n===== Cylinder operation =====\\n\")\n",
        "cylinder1 = cylinders(int(input(\"Enter radius of cylinder : \")), int(\n",
        "    input(\"Enter height of the cylinder : \")))\n",
        "cylinder1.area()\n",
        "cylinder1.volume()\n",
        "cylinder1.prinArea()\n",
        "cylinder1.printVolume()\n",
        "\n",
        "# sphere operation\n",
        "print(\"\\n===== Sphere operation =====\\n\")\n",
        "sphere1 = sphere(int(input(\"Enter the radius of the sphere : \")))\n",
        "sphere1.area()\n",
        "sphere1.volume()\n",
        "sphere1.prinArea()\n",
        "sphere1.printVolume()\n"
      ]
    }
  ]
}